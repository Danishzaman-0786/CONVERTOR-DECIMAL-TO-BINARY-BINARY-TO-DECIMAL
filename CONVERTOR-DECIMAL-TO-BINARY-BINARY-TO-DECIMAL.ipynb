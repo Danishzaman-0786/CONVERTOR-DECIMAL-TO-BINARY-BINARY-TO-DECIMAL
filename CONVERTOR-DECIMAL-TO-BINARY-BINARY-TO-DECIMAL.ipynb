{
  "nbformat": 4,
  "nbformat_minor": 0,
  "metadata": {
    "colab": {
      "provenance": [],
      "authorship_tag": "ABX9TyOGnEdlyQZsIwmjTJoAv6GV",
      "include_colab_link": true
    },
    "kernelspec": {
      "name": "python3",
      "display_name": "Python 3"
    },
    "language_info": {
      "name": "python"
    }
  },
  "cells": [
    {
      "cell_type": "markdown",
      "metadata": {
        "id": "view-in-github",
        "colab_type": "text"
      },
      "source": [
        "<a href=\"https://colab.research.google.com/github/Danishzaman-0786/CONVERTOR-DECIMAL-TO-BINARY-BINARY-TO-DECIMAL/blob/main/CONVERTOR-DECIMAL-TO-BINARY-BINARY-TO-DECIMAL.ipynb\" target=\"_parent\"><img src=\"https://colab.research.google.com/assets/colab-badge.svg\" alt=\"Open In Colab\"/></a>"
      ]
    },
    {
      "cell_type": "markdown",
      "source": [
        "##CONVERTOR(DECIMAL TO BINARY & BINARY TO DECIMAL)!\n"
      ],
      "metadata": {
        "id": "wUQ-1MQy25IZ"
      }
    },
    {
      "cell_type": "code",
      "execution_count": 47,
      "metadata": {
        "id": "-I5Z3snV23Fr"
      },
      "outputs": [],
      "source": [
        "class Convertor:\n",
        "    def Dec_bin(input):\n",
        "      Output=''\n",
        "      while(input>=1):\n",
        "        Output=str(input%2)+Output\n",
        "        input=input//2\n",
        "      return Output\n",
        "    def Bin_dec(input_):\n",
        "      k=0\n",
        "      input=[]\n",
        "      for j in input_:\n",
        "        input.append(int(j))\n",
        "      a=0\n",
        "      for i in range(len(input)-1,-1,-1):\n",
        "        a=a+input[i]*2**k\n",
        "        k=k+1\n",
        "      return a\n"
      ]
    },
    {
      "cell_type": "code",
      "source": [
        "Convertor.Dec_bin(10)"
      ],
      "metadata": {
        "colab": {
          "base_uri": "https://localhost:8080/",
          "height": 35
        },
        "id": "0YnW_v_T4XRP",
        "outputId": "ad1b000e-f45e-4511-912e-74bdbb358f16"
      },
      "execution_count": 48,
      "outputs": [
        {
          "output_type": "execute_result",
          "data": {
            "text/plain": [
              "'1010'"
            ],
            "application/vnd.google.colaboratory.intrinsic+json": {
              "type": "string"
            }
          },
          "metadata": {},
          "execution_count": 48
        }
      ]
    },
    {
      "cell_type": "code",
      "source": [
        "Convertor.Bin_dec('1010')"
      ],
      "metadata": {
        "colab": {
          "base_uri": "https://localhost:8080/"
        },
        "id": "MNBD2z6I-x70",
        "outputId": "eb755593-8df7-4e65-e866-82b1847e932d"
      },
      "execution_count": 50,
      "outputs": [
        {
          "output_type": "execute_result",
          "data": {
            "text/plain": [
              "10"
            ]
          },
          "metadata": {},
          "execution_count": 50
        }
      ]
    },
    {
      "cell_type": "code",
      "source": [],
      "metadata": {
        "id": "UCmLmE3b_OER"
      },
      "execution_count": null,
      "outputs": []
    }
  ]
}